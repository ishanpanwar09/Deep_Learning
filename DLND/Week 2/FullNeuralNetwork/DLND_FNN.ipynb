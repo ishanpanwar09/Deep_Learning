{
 "cells": [
  {
   "cell_type": "markdown",
   "metadata": {},
   "source": [
    "## First Neural Network"
   ]
  },
  {
   "cell_type": "markdown",
   "metadata": {},
   "source": [
    "### Dependencies"
   ]
  },
  {
   "cell_type": "code",
   "execution_count": 1,
   "metadata": {
    "collapsed": true
   },
   "outputs": [],
   "source": [
    "from numpy import exp, random, array, dot"
   ]
  },
  {
   "cell_type": "markdown",
   "metadata": {},
   "source": [
    "### The class neuralnetwork()\n",
    "\n",
    "1. Input data is combined with randomly initialized weights by dot product.\n",
    "    * Be careful about the shape of matrix here since the shape of both matrix should be compatible for matrix dot product.\n",
    "2. Output is calculated from the step 1. The dot product of input data and random;y initialized weights are fed to sigmoid function.\n",
    "3. The output of setp 2 is then used to calculate the error, which is simply the difference between predicted output and the real output.\n",
    "4. Once we get error we compute dot product of the 'input data' and 'error' times (simple multiplication) 'gradient descent of output'.\n",
    "    * gradient descent of output: the derivative of the outputs.\n",
    "5. This process repeats until the model learns to converge and generate the output labels."
   ]
  },
  {
   "cell_type": "code",
   "execution_count": 2,
   "metadata": {
    "collapsed": true
   },
   "outputs": [],
   "source": [
    "class neuralnetwork():\n",
    "    def __init__(self):\n",
    "        random.seed(1)\n",
    "        # initializing random weights\n",
    "        self.synaptic_weights = 2* random.random((3,1))-1\n",
    "        \n",
    "    def __sigmoid(self, x):\n",
    "        return 1/(1 + exp(-x))\n",
    "    # gradient of the curve\n",
    "    def __sigmoid_derivative(self, x):\n",
    "        return x * (1-x)\n",
    "    \n",
    "    def train(self, training_set_input, training_set_output, number_of_training_iteration):\n",
    "        for iteration in range(number_of_training_iteration):\n",
    "            # calculating the output\n",
    "            output = self.predict(training_set_input)\n",
    "            # calculating Error\n",
    "            error = training_set_output - output\n",
    "            # multiply the error with input and again by gradient of sigmoid\n",
    "            adjustment = dot(training_set_input.T, error * self.__sigmoid_derivative(output))\n",
    "            self.synaptic_weights += adjustment\n",
    "    \n",
    "    # input gets summed up here for generating an output.\n",
    "    def predict(self, inputs):\n",
    "        return self.__sigmoid(dot(inputs, self.synaptic_weights))"
   ]
  },
  {
   "cell_type": "markdown",
   "metadata": {},
   "source": [
    "### The main function\n",
    "\n",
    "This guys is used to initialize the class neuralnetwork() and test the prediction for a given test example"
   ]
  },
  {
   "cell_type": "code",
   "execution_count": 3,
   "metadata": {
    "collapsed": false
   },
   "outputs": [
    {
     "name": "stdout",
     "output_type": "stream",
     "text": [
      "random starting weights\n",
      "\n",
      "[[-0.16595599]\n",
      " [ 0.44064899]\n",
      " [-0.99977125]] \n",
      "\n",
      "training done, weights after training are below:\n",
      "[[ 9.67299303]\n",
      " [-0.2078435 ]\n",
      " [-4.62963669]] \n",
      "\n",
      "prediction for [1,0,0]: [ 0.99993704]\n"
     ]
    }
   ],
   "source": [
    "if __name__ == '__main__':\n",
    "    nn = neuralnetwork()\n",
    "    print('random starting weights\\n')\n",
    "    print(nn.synaptic_weights, '\\n')\n",
    "    training_set_input = array([[0, 0, 1], [1, 1, 1], [1, 0, 1], [0, 1, 1]])\n",
    "    training_set_output = array([[0,1,1,0]]).T\n",
    "    \n",
    "    # training the network\n",
    "    nn.train(training_set_input, training_set_output, 10000)\n",
    "    print('training done, weights after training are below:')\n",
    "    print(nn.synaptic_weights, '\\n')\n",
    "    \n",
    "    # predicting\n",
    "    print('prediction for [1,0,0]:',nn.predict(array([1,0,0]))) "
   ]
  },
  {
   "cell_type": "code",
   "execution_count": null,
   "metadata": {
    "collapsed": true
   },
   "outputs": [],
   "source": []
  }
 ],
 "metadata": {
  "anaconda-cloud": {},
  "kernelspec": {
   "display_name": "Python [default]",
   "language": "python",
   "name": "python3"
  },
  "language_info": {
   "codemirror_mode": {
    "name": "ipython",
    "version": 3
   },
   "file_extension": ".py",
   "mimetype": "text/x-python",
   "name": "python",
   "nbconvert_exporter": "python",
   "pygments_lexer": "ipython3",
   "version": "3.5.2"
  }
 },
 "nbformat": 4,
 "nbformat_minor": 1
}
