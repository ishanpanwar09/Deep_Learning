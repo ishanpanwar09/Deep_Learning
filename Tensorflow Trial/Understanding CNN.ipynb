{
 "cells": [
  {
   "cell_type": "markdown",
   "metadata": {},
   "source": [
    "### Question\n",
    "#### What's the shape of the output?\n",
    "\n",
    "The answer format is HxWxD, so if you think the new height is 9, new width is 9, and new depth is 5, then type 9x9x5.\n",
    "\n",
    "### Given \n",
    "H = height, W = width, D = depth\n",
    "\n",
    "* We have an input of shape 32x32x3 (HxWxD)\n",
    "* 20 filters of shape 8x8x3 (HxWxD)\n",
    "* A stride of 2 for both the height and width (S)\n",
    "* With padding of size 1 (P)"
   ]
  },
  {
   "cell_type": "code",
   "execution_count": 9,
   "metadata": {
    "collapsed": false
   },
   "outputs": [
    {
     "name": "stdout",
     "output_type": "stream",
     "text": [
      "output_height: 14, output_height: 14\n",
      "new_depth: 20\n"
     ]
    }
   ],
   "source": [
    "input_height = 32\n",
    "input_width = 32\n",
    "input_depth = 3\n",
    "\n",
    "# filter = 8x8x3\n",
    "filter_count = 20\n",
    "padding = 1\n",
    "stride = 2\n",
    "\n",
    "output_height = (input_height - 8 + 2 * padding)/ stride + 1\n",
    "output_width = (input_width - 8 + 2 * padding)/ stride + 1\n",
    "print('output_height: %d, output_height: %d' %(output_height, output_width))\n",
    "print('new_depth:', filter_count)\n",
    "# print(\"First number is {} and second number is {}\".format(output_height, output_width))"
   ]
  },
  {
   "cell_type": "code",
   "execution_count": null,
   "metadata": {
    "collapsed": true
   },
   "outputs": [],
   "source": []
  }
 ],
 "metadata": {
  "kernelspec": {
   "display_name": "Python 3",
   "language": "python",
   "name": "python3"
  },
  "language_info": {
   "codemirror_mode": {
    "name": "ipython",
    "version": 3
   },
   "file_extension": ".py",
   "mimetype": "text/x-python",
   "name": "python",
   "nbconvert_exporter": "python",
   "pygments_lexer": "ipython3",
   "version": "3.6.0"
  }
 },
 "nbformat": 4,
 "nbformat_minor": 2
}
