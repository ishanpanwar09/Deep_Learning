{
 "cells": [
  {
   "cell_type": "code",
   "execution_count": 1,
   "metadata": {
    "collapsed": true
   },
   "outputs": [],
   "source": [
    "# Import dependencies\n",
    "import math \n",
    "import os\n",
    "import numpy as np\n",
    "import tensorflow as tf\n",
    "from tensorflow.contrib.learn.python.learn.datasets.mnist import read_data_sets\n",
    "\n",
    "%matplotlib inline\n",
    "import matplotlib.pyplot as plt"
   ]
  },
  {
   "cell_type": "code",
   "execution_count": 2,
   "metadata": {
    "collapsed": true
   },
   "outputs": [],
   "source": [
    "# define constants\n",
    "\n",
    "# mnist has 10 classes\n",
    "NUM_CLASSES = 10\n",
    "\n",
    "# MNIST IMAGE SIZE IS ALWAYS 28 * 28\n",
    "IMAGE_SIZE = 28\n",
    "IMAGE_PIXEL = IMAGE_SIZE * IMAGE_SIZE\n",
    "\n",
    "# BATCH SIZE, MUST BE DIVIDABLE BY DATASET SIZE\n",
    "BATCH_SIZE = 100\n",
    "EVAL_BATCH_SIZE = 1\n",
    "\n",
    "# NUMBER OF UNITS IN HIDDEN LAYER\n",
    "HIDDEN1_UNITS = 128\n",
    "HIDDEN2_UNITS = 32\n",
    "\n",
    "# MAXIMUM NUMBER OF TRAINING STEPS\n",
    "MAX_STEPS = 2000\n",
    "\n",
    "# DIRECTORY TO PUT THE TRAINING DATA\n",
    "TRAIN_DIR = '/Users/ishansingh/Dropbox/To_GIT/TENSORFLOW/'"
   ]
  },
  {
   "cell_type": "code",
   "execution_count": 3,
   "metadata": {
    "collapsed": false
   },
   "outputs": [
    {
     "name": "stdout",
     "output_type": "stream",
     "text": [
      "Extracting /Users/ishansingh/Dropbox/To_GIT/TENSORFLOW/train-images-idx3-ubyte.gz\n",
      "Extracting /Users/ishansingh/Dropbox/To_GIT/TENSORFLOW/train-labels-idx1-ubyte.gz\n",
      "Extracting /Users/ishansingh/Dropbox/To_GIT/TENSORFLOW/t10k-images-idx3-ubyte.gz\n",
      "Extracting /Users/ishansingh/Dropbox/To_GIT/TENSORFLOW/t10k-labels-idx1-ubyte.gz\n"
     ]
    }
   ],
   "source": [
    "# get the set of images and labels for training, testing and validation data\n",
    "data_set = read_data_sets(TRAIN_DIR, False)"
   ]
  },
  {
   "cell_type": "markdown",
   "metadata": {},
   "source": [
    "### The network is created and connected here. IMP FACTS:\n",
    "\n",
    "1. Has 2 hidden layers\n",
    "2. Linear is the final layer or output layer"
   ]
  },
  {
   "cell_type": "code",
   "execution_count": 4,
   "metadata": {
    "collapsed": true
   },
   "outputs": [],
   "source": [
    "# Built inference graph!\n",
    "\n",
    "# /*** Always an inference graph with produce logistic outputs\n",
    "\n",
    "def mnist_inference(images, hidden1_units, hidden2_units):\n",
    "    \"\"\"Build the MNIST model up to where it may be used for inference.\n",
    "    Args:\n",
    "        images: Images placeholder.\n",
    "        hidden1_units: Size of the first hidden layer.\n",
    "    Returns:\n",
    "        logits: Output tensor with the computed logits.\n",
    "    \"\"\"\n",
    "    # hidden 1\n",
    "    with tf.name_scope('hidden1'):\n",
    "        weights = tf.Variable(\n",
    "        tf.truncated_normal([IMAGE_PIXEL, hidden1_units],\n",
    "                           stddev = 1.0 / math.sqrt(float(IMAGE_PIXEL))),\n",
    "            name = 'weights'\n",
    "        )\n",
    "        biases = tf.Variable(tf.zeros([hidden1_units]),\n",
    "                            name = 'biases')\n",
    "        hidden1 = tf.nn.relu(tf.matmul(images, weights) + biases)\n",
    "        \n",
    "    \n",
    "    # hidden 2\n",
    "    with tf.name_scope('hidden2'):\n",
    "        weights = tf.Variable(\n",
    "        tf.truncated_normal([hidden1_units, hidden2_units],\n",
    "                           stddev = 1.0 / math.sqrt(float(hidden1_units))),\n",
    "            name = 'weights'\n",
    "        )\n",
    "        biases = tf.Variable(tf.zeros([hidden2_units]),\n",
    "                            name = 'biases')\n",
    "        hidden2 = tf.nn.relu(tf.matmul(hidden1, weights) + biases)\n",
    "        \n",
    "    # Linear\n",
    "    with tf.name_scope('softmax_linear'):\n",
    "        weights = tf.Variable(\n",
    "        tf.truncated_normal([hidden2_units, NUM_CLASSES],\n",
    "                           stddev = 1.0 / math.sqrt(float(hidden2_units))),\n",
    "            name = 'weights'\n",
    "        )\n",
    "        biases = tf.Variable(tf.zeros([NUM_CLASSES]),\n",
    "                            name = 'biases')\n",
    "        logits = tf.nn.relu(tf.matmul(hidden2, weights) + biases)\n",
    "    \n",
    "    # The constructed graph\n",
    "        tf.train.write_graph(tf.get_default_graph().as_graph_def(),\n",
    "                            'TRAIN_DIR', \"inference.pbtxt\", as_text = True)\n",
    "    \n",
    "    return logits"
   ]
  },
  {
   "cell_type": "code",
   "execution_count": 5,
   "metadata": {
    "collapsed": true
   },
   "outputs": [],
   "source": [
    "# build training graph\n",
    "def mnist_training(logits, labels, lr):\n",
    "    \"\"\"\n",
    "    Build the training graph.\n",
    "    Args-\n",
    "        logits: logit tensor, float - [Batch_size: NUM_CLASS]\n",
    "        labels: label tensor, int32 - [Batch_size], with values in the range [0:NUM_CLASS]\n",
    "        lr = learning rate for gradient descent\n",
    "        \n",
    "    Returns-\n",
    "        train_op: The op for training\n",
    "        loss: The op for calculation loss\n",
    "    \"\"\"\n",
    "    \n",
    "    # create operation that calculates loss\n",
    "    labels = tf.to_int64(labels)\n",
    "    cross_entropy = tf.nn.sparse_softmax_cross_entropy_with_logits(\n",
    "        logits = logits, labels = labels, name = 'xentropy')\n",
    "    loss = tf.reduce_mean(cross_entropy, name = 'xentropy_mean')\n",
    "    \n",
    "    # create Optimizer with Learning Rate\n",
    "    optimizer = tf.train.GradientDescentOptimizer(lr)\n",
    "    \n",
    "    # Create a variable to track the global step.\n",
    "    global_step = tf.Variable(0, name = 'global_step', trainable= False)\n",
    "    \n",
    "    # use the optimizer to apply the gradient that minimizes loss (and also increement the\n",
    "    # global step counter) as a single training step\n",
    "    train_op = optimizer.minimize(loss, global_step = global_step)\n",
    "    \n",
    "    # The constructed graph\n",
    "    tf.train.write_graph(tf.get_default_graph().as_graph_def(),\n",
    "                         'TRAIN_DIR', \"inference.pbtxt\", as_text = True)\n",
    "\n",
    "    return train_op, loss"
   ]
  },
  {
   "cell_type": "code",
   "execution_count": 6,
   "metadata": {
    "collapsed": false
   },
   "outputs": [],
   "source": [
    "# bulid the graph for feeding input, training and saving checkpoints\n",
    "\n",
    "mnist_graph = tf.Graph()\n",
    "with mnist_graph.as_default():\n",
    "    # generate placeholder for image and labels\n",
    "    image_placeholder = tf.placeholder(tf.float32)\n",
    "    label_placeholder = tf.placeholder(tf.int32)\n",
    "    tf.add_to_collection('images', image_placeholder) # Remember this OP\n",
    "    tf.add_to_collection('labels', label_placeholder) # Remember this OP\n",
    "    \n",
    "    # build a graph that computes prediction from the inference model\n",
    "    logits = mnist_inference(image_placeholder, HIDDEN1_UNITS, HIDDEN2_UNITS)\n",
    "    tf.add_to_collection('logits', logits) # Remember this OP\n",
    "    \n",
    "    # add to the graph the Ops that calculates and apply Gradient\n",
    "    train_op, loss = mnist_training(logits, label_placeholder, 0.01)\n",
    "    \n",
    "    # Add variable initializer Op.\n",
    "    init = tf.global_variables_initializer()\n",
    "    \n",
    "    # Create checkpoints using Saver\n",
    "    saver = tf.train.Saver()\n",
    "    \n",
    "    # The constructed graph\n",
    "    tf.train.write_graph(tf.get_default_graph().as_graph_def(),\n",
    "                         'TRAIN_DIR', \"inference.pbtxt\", as_text = True)"
   ]
  },
  {
   "cell_type": "code",
   "execution_count": 7,
   "metadata": {
    "collapsed": false
   },
   "outputs": [
    {
     "name": "stdout",
     "output_type": "stream",
     "text": [
      "step 0: loss = 2.31\n",
      "step 500: loss = 1.64\n",
      "step 1000: loss = 1.04\n",
      "step 1500: loss = 0.92\n"
     ]
    },
    {
     "data": {
      "image/png": "[encoded data removed]",
      "text/plain": [
       "<matplotlib.figure.Figure at 0x1290005c0>"
      ]
     },
     "metadata": {},
     "output_type": "display_data"
    }
   ],
   "source": [
    "# run training for Max_steps and save checkpoints at the end\n",
    "with tf.Session(graph = mnist_graph) as sess:\n",
    "    sess.run(init)\n",
    "    \n",
    "    losses = []\n",
    "    # start the training process \n",
    "    for step in range(MAX_STEPS):\n",
    "        image_feed, label_feed = data_set.train.next_batch(BATCH_SIZE)\n",
    "        \n",
    "        _, loss_value = sess.run([train_op, loss],\n",
    "                                feed_dict = {image_placeholder: image_feed,\n",
    "                                             label_placeholder: label_feed})\n",
    "        \n",
    "        losses.append(loss_value)\n",
    "        # print loss value:\n",
    "        if step % 500 == 0:\n",
    "            print('step %d: loss = %.2f' % (step, loss_value))\n",
    "        plt.plot(losses)    \n",
    "    checkpoint_file = os.path.join(TRAIN_DIR, 'checkpoint')\n",
    "    saver.save(sess, checkpoint_file, global_step= step)"
   ]
  },
  {
   "cell_type": "code",
   "execution_count": 8,
   "metadata": {
    "collapsed": false
   },
   "outputs": [
    {
     "name": "stdout",
     "output_type": "stream",
     "text": [
      "Actual Label: 2\n",
      " Prediction: 2\n"
     ]
    },
    {
     "data": {
      "image/png": "[encoded data removed]",
      "text/plain": [
       "<matplotlib.figure.Figure at 0x129010cc0>"
      ]
     },
     "metadata": {},
     "output_type": "display_data"
    }
   ],
   "source": [
    "# Run Evaluations based on checkpoints\n",
    "with tf.Session(graph= tf.Graph()) as sess:\n",
    "    saver = tf.train.import_meta_graph(os.path.join(TRAIN_DIR, 'checkpoint-1999.meta'))\n",
    "    saver.restore(\n",
    "    sess, os.path.join(TRAIN_DIR, 'checkpoint-1999'))\n",
    "    \n",
    "    # retrieve ops we collected\n",
    "    logits = tf.get_collection('logits')[0]\n",
    "    image_placeholder = tf.get_collection('images')[0]\n",
    "    label_placeholder = tf.get_collection('labels')[0]\n",
    "    \n",
    "    # add ops to choose for top k predictions\n",
    "    eval_op = tf.nn.top_k(logits)\n",
    "    \n",
    "    # run evaluation\n",
    "    image_feed, label_feed = data_set.train.next_batch(EVAL_BATCH_SIZE)\n",
    "    imgplot = plt.imshow(np.reshape(image_feed, (28,28)))\n",
    "    prediction = sess.run(eval_op,\n",
    "                         feed_dict = {\n",
    "                             image_placeholder: image_feed,\n",
    "                             label_placeholder: label_feed\n",
    "                         })\n",
    "    \n",
    "    print(\"Actual Label: %d\\n Prediction: %d\" % (label_feed, prediction.indices[0][0]))"
   ]
  },
  {
   "cell_type": "code",
   "execution_count": null,
   "metadata": {
    "collapsed": true
   },
   "outputs": [],
   "source": []
  }
 ],
 "metadata": {
  "kernelspec": {
   "display_name": "Python 3",
   "language": "python",
   "name": "python3"
  },
  "language_info": {
   "codemirror_mode": {
    "name": "ipython",
    "version": 3
   },
   "file_extension": ".py",
   "mimetype": "text/x-python",
   "name": "python",
   "nbconvert_exporter": "python",
   "pygments_lexer": "ipython3",
   "version": "3.6.0"
  }
 },
 "nbformat": 4,
 "nbformat_minor": 2
}
