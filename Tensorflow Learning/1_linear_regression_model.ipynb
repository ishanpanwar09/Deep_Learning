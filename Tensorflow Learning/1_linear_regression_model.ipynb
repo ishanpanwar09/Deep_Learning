{
 "cells": [
  {
   "cell_type": "code",
   "execution_count": 1,
   "metadata": {
    "collapsed": true
   },
   "outputs": [],
   "source": [
    "# 1.1 Import tensorflow and other libraries.\n",
    "import tensorflow as tf\n",
    "import numpy as np\n",
    "\n",
    "%matplotlib inline\n",
    "import pylab"
   ]
  },
  {
   "cell_type": "code",
   "execution_count": 2,
   "metadata": {
    "collapsed": false
   },
   "outputs": [
    {
     "data": {
      "text/plain": [
       "[<matplotlib.lines.Line2D at 0x120fb0a90>]"
      ]
     },
     "execution_count": 2,
     "metadata": {},
     "output_type": "execute_result"
    },
    {
     "data": {
      "image/png": "[encoded data removed]",
      "text/plain": [
       "<matplotlib.figure.Figure at 0x120f19cc0>"
      ]
     },
     "metadata": {},
     "output_type": "display_data"
    }
   ],
   "source": [
    "# 1.2 Create input data using NumPy. y = x * 0.1 + 0.3 + noise\n",
    "x = np.random.rand(500).astype(np.float32)\n",
    "noise = np.random.normal(scale=0.01, size=len(x))\n",
    "y = x*  0.1 + 0.3 + noise\n",
    "\n",
    "pylab.plot(x, y, '.')"
   ]
  },
  {
   "cell_type": "code",
   "execution_count": 3,
   "metadata": {
    "collapsed": false
   },
   "outputs": [],
   "source": [
    "# 1.3 Buld inference graph.\n",
    "# Create Variables W and b that compute y_data = W * x_data + b\n",
    "\n",
    "# inputs = tf.placeholder(tf.float32, None, name='inputs')\n",
    "# targets = tf.placeholder(tf.float32, None, name='inputs')\n",
    "w = tf.Variable(tf.random_normal([1], 0.1, 0.1, dtype=tf.float32), name = 'weights')\n",
    "b = tf.Variable(tf.zeros([1]), name='bias')\n",
    "\n",
    "yhat = x* w + b"
   ]
  },
  {
   "cell_type": "code",
   "execution_count": 4,
   "metadata": {
    "collapsed": false
   },
   "outputs": [],
   "source": [
    "# 1.4 Build training graph.\n",
    "loss = tf.reduce_mean(tf.square(y - yhat), name='loss')\n",
    "optimizer = tf.train.GradientDescentOptimizer(0.01)\n",
    "train = optimizer.minimize(loss)"
   ]
  },
  {
   "cell_type": "code",
   "execution_count": 5,
   "metadata": {
    "collapsed": false
   },
   "outputs": [],
   "source": [
    "init = tf.global_variables_initializer()\n",
    "# print(\"loss:\", loss)\n",
    "# print(\"optimizer:\", optimizer)\n",
    "# print(\"train:\", train)\n",
    "# print(init)"
   ]
  },
  {
   "cell_type": "code",
   "execution_count": 6,
   "metadata": {
    "collapsed": false
   },
   "outputs": [],
   "source": [
    "# 1.5 Uncomment the following line to see what we have built.\n",
    "# print(tf.get_default_graph().as_graph_def())"
   ]
  },
  {
   "cell_type": "code",
   "execution_count": 7,
   "metadata": {
    "collapsed": false
   },
   "outputs": [
    {
     "name": "stdout",
     "output_type": "stream",
     "text": [
      "[array([ 0.12432408], dtype=float32), array([ 0.], dtype=float32)]\n",
      "0 [array([ 0.12706129], dtype=float32), array([ 0.00576867], dtype=float32)]\n",
      "20 [array([ 0.16867255], dtype=float32), array([ 0.09558698], dtype=float32)]\n",
      "40 [array([ 0.19235882], dtype=float32), array([ 0.15046008], dtype=float32)]\n",
      "60 [array([ 0.20527487], dtype=float32), array([ 0.18424655], dtype=float32)]\n",
      "80 [array([ 0.21173316], dtype=float32), array([ 0.20530194], dtype=float32)]\n",
      "100 [array([ 0.21433279], dtype=float32), array([ 0.21866415], dtype=float32)]\n",
      "120 [array([ 0.21463972], dtype=float32), array([ 0.22737099], dtype=float32)]\n",
      "140 [array([ 0.21359721], dtype=float32), array([ 0.23325419], dtype=float32)]\n",
      "160 [array([ 0.21177304], dtype=float32), array([ 0.23741864], dtype=float32)]\n",
      "180 [array([ 0.20950873], dtype=float32), array([ 0.2405308], dtype=float32)]\n",
      "200 [array([ 0.20700929], dtype=float32), array([ 0.24299295], dtype=float32)]\n",
      "[array([ 0.20700929], dtype=float32), array([ 0.24299295], dtype=float32)]\n"
     ]
    }
   ],
   "source": [
    "# 1.6 Create a session and launch the graph.\n",
    "sess = tf.Session()\n",
    "sess.run(init)\n",
    "#y_initial_values = sess.run(y)  # Save initial values for plotting later.\n",
    "\n",
    "# Uncomment the following line to see the initial W and b values.\n",
    "print(sess.run([w, b]))\n",
    "\n",
    "# 1.7 Perform training.\n",
    "for step in range(201):\n",
    "    sess.run(train)\n",
    "    # Uncomment the following two lines to watch training happen real time.\n",
    "    if step % 20 == 0:\n",
    "        print(step, sess.run([w, b]))\n",
    "\n",
    "print(sess.run([w, b])) "
   ]
  },
  {
   "cell_type": "code",
   "execution_count": 8,
   "metadata": {
    "collapsed": false
   },
   "outputs": [
    {
     "name": "stdout",
     "output_type": "stream",
     "text": [
      "[[  1.56241995e-07   9.99999881e-01]\n",
      " [  5.47379136e-01   4.52620864e-01]]\n"
     ]
    }
   ],
   "source": [
    "x = tf.constant([[37.0, -23.0], [1.0, 4.0]])\n",
    "w = tf.Variable(tf.random_uniform([2, 2]))\n",
    "y = tf.matmul(x, w)\n",
    "output = tf.nn.softmax(y)\n",
    "init_op = w.initializer\n",
    "\n",
    "with tf.Session() as sess:\n",
    "    # Run the initializer on `w`\n",
    "    sess.run(init_op)\n",
    "\n",
    "  # Evaluate `output`. `sess.run(output)` will return a NumPy array containing\n",
    "  # the result of the computation.\n",
    "    print(sess.run(output))\n",
    "\n",
    "  # Evaluate `y` and `output`. Note that `y` will only be computed once, and its\n",
    "  # result used both to return `y_val` and as an input to the `tf.nn.softmax()`\n",
    "  # op. Both `y_val` and `output_val` will be NumPy arrays.\n",
    "    y_val, output_val = sess.run([y, output])"
   ]
  },
  {
   "cell_type": "code",
   "execution_count": null,
   "metadata": {
    "collapsed": true
   },
   "outputs": [],
   "source": []
  }
 ],
 "metadata": {
  "kernelspec": {
   "display_name": "Python 3",
   "language": "python",
   "name": "python3"
  },
  "language_info": {
   "codemirror_mode": {
    "name": "ipython",
    "version": 3
   },
   "file_extension": ".py",
   "mimetype": "text/x-python",
   "name": "python",
   "nbconvert_exporter": "python",
   "pygments_lexer": "ipython3",
   "version": "3.6.0"
  }
 },
 "nbformat": 4,
 "nbformat_minor": 2
}
